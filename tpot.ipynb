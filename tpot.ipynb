{
 "cells": [
  {
   "cell_type": "code",
   "execution_count": null,
   "metadata": {},
   "outputs": [],
   "source": [
    "!pip install -r requirements.txt"
   ]
  },
  {
   "cell_type": "code",
   "execution_count": 8,
   "metadata": {},
   "outputs": [],
   "source": [
    "import pickle\n",
    "import pandas as pd\n",
    "from tpot import TPOTClassifier\n",
    "from sklearn.model_selection import train_test_split"
   ]
  },
  {
   "cell_type": "code",
   "execution_count": 9,
   "metadata": {},
   "outputs": [],
   "source": [
    "with open('./text-representation/X_train.pickle', 'rb') as data:\n",
    "    X_train = pickle.load(data)\n",
    "with open('./text-representation/y_train.pickle', 'rb') as data:\n",
    "    y_train = pickle.load(data)\n",
    "\n",
    "X_train, X_test, y_train, y_test = train_test_split(X_train, y_train,\n",
    "                                                    train_size=0.80, test_size=0.20, random_state=7)"
   ]
  },
  {
   "cell_type": "code",
   "execution_count": 14,
   "metadata": {},
   "outputs": [],
   "source": [
    "pipeline_optimizer = TPOTClassifier(verbosity=2, random_state=7)"
   ]
  },
  {
   "cell_type": "code",
   "execution_count": 15,
   "metadata": {},
   "outputs": [
    {
     "data": {
      "application/vnd.jupyter.widget-view+json": {
       "model_id": "f42fa5290ed5438fa298f62690abeffd",
       "version_major": 2,
       "version_minor": 0
      },
      "text/plain": [
       "HBox(children=(FloatProgress(value=0.0, description='Optimization Progress', max=10100.0, style=ProgressStyle(…"
      ]
     },
     "metadata": {},
     "output_type": "display_data"
    },
    {
     "name": "stdout",
     "output_type": "stream",
     "text": [
      "Generation 1 - Current best internal CV score: 0.6567375886524822\n",
      "Generation 2 - Current best internal CV score: 0.6734929078014182\n",
      "Generation 3 - Current best internal CV score: 0.6734929078014182\n",
      "Generation 4 - Current best internal CV score: 0.6734929078014182\n",
      "Generation 5 - Current best internal CV score: 0.6734929078014182\n",
      "Generation 6 - Current best internal CV score: 0.6734929078014182\n",
      "Generation 7 - Current best internal CV score: 0.6734929078014182\n",
      "Generation 8 - Current best internal CV score: 0.6736702127659575\n",
      "Generation 9 - Current best internal CV score: 0.6821808510638299\n",
      "Generation 10 - Current best internal CV score: 0.6821808510638299\n",
      "Generation 11 - Current best internal CV score: 0.6906914893617021\n",
      "Generation 12 - Current best internal CV score: 0.6906914893617021\n",
      "Generation 13 - Current best internal CV score: 0.6906914893617021\n",
      "Generation 14 - Current best internal CV score: 0.6906914893617021\n",
      "Generation 15 - Current best internal CV score: 0.6906914893617021\n",
      "Generation 16 - Current best internal CV score: 0.6906914893617021\n",
      "Generation 17 - Current best internal CV score: 0.6906914893617021\n",
      "Generation 18 - Current best internal CV score: 0.6906914893617021\n",
      "Generation 19 - Current best internal CV score: 0.6906914893617021\n",
      "Generation 20 - Current best internal CV score: 0.6906914893617021\n",
      "Generation 21 - Current best internal CV score: 0.6906914893617021\n",
      "Generation 22 - Current best internal CV score: 0.6906914893617021\n",
      "Generation 23 - Current best internal CV score: 0.6906914893617021\n",
      "Generation 24 - Current best internal CV score: 0.6906914893617021\n",
      "Generation 25 - Current best internal CV score: 0.6906914893617021\n",
      "Generation 26 - Current best internal CV score: 0.6906914893617021\n",
      "Generation 27 - Current best internal CV score: 0.6906914893617021\n",
      "Generation 28 - Current best internal CV score: 0.6906914893617021\n",
      "Generation 29 - Current best internal CV score: 0.6950354609929078\n",
      "Generation 30 - Current best internal CV score: 0.6950354609929078\n",
      "Generation 31 - Current best internal CV score: 0.6950354609929078\n",
      "Generation 32 - Current best internal CV score: 0.6950354609929078\n",
      "Generation 33 - Current best internal CV score: 0.6950354609929078\n",
      "Generation 34 - Current best internal CV score: 0.6950354609929078\n",
      "Generation 35 - Current best internal CV score: 0.6950354609929078\n",
      "Generation 36 - Current best internal CV score: 0.6950354609929078\n",
      "Generation 37 - Current best internal CV score: 0.6950354609929078\n",
      "Generation 38 - Current best internal CV score: 0.6950354609929078\n",
      "Generation 39 - Current best internal CV score: 0.6950354609929078\n",
      "Generation 40 - Current best internal CV score: 0.6950354609929078\n",
      "Generation 41 - Current best internal CV score: 0.6991134751773049\n",
      "Generation 42 - Current best internal CV score: 0.6991134751773049\n",
      "Generation 43 - Current best internal CV score: 0.6991134751773049\n",
      "Generation 44 - Current best internal CV score: 0.7033687943262412\n",
      "Generation 45 - Current best internal CV score: 0.7033687943262412\n",
      "Generation 46 - Current best internal CV score: 0.7033687943262412\n",
      "Generation 47 - Current best internal CV score: 0.7033687943262412\n",
      "Generation 48 - Current best internal CV score: 0.7033687943262412\n",
      "Generation 49 - Current best internal CV score: 0.7077127659574468\n",
      "Generation 50 - Current best internal CV score: 0.7077127659574468\n",
      "Generation 51 - Current best internal CV score: 0.7077127659574468\n",
      "Generation 52 - Current best internal CV score: 0.7077127659574468\n",
      "Generation 53 - Current best internal CV score: 0.7077127659574468\n",
      "Generation 54 - Current best internal CV score: 0.7077127659574468\n",
      "Generation 55 - Current best internal CV score: 0.7077127659574468\n",
      "Generation 56 - Current best internal CV score: 0.7077127659574468\n",
      "Generation 57 - Current best internal CV score: 0.7077127659574468\n",
      "Generation 58 - Current best internal CV score: 0.7077127659574468\n",
      "Generation 59 - Current best internal CV score: 0.7077127659574468\n",
      "Generation 60 - Current best internal CV score: 0.7077127659574468\n",
      "Generation 61 - Current best internal CV score: 0.7077127659574468\n",
      "Generation 62 - Current best internal CV score: 0.7077127659574468\n",
      "Generation 63 - Current best internal CV score: 0.7077127659574468\n",
      "Generation 64 - Current best internal CV score: 0.7077127659574468\n",
      "Generation 65 - Current best internal CV score: 0.7077127659574468\n",
      "Generation 66 - Current best internal CV score: 0.7117907801418439\n",
      "Generation 67 - Current best internal CV score: 0.7117907801418439\n",
      "Generation 68 - Current best internal CV score: 0.7117907801418439\n",
      "Generation 69 - Current best internal CV score: 0.7117907801418439\n",
      "Generation 70 - Current best internal CV score: 0.7117907801418439\n",
      "Generation 71 - Current best internal CV score: 0.7117907801418439\n",
      "Generation 72 - Current best internal CV score: 0.7117907801418439\n",
      "Generation 73 - Current best internal CV score: 0.7117907801418439\n",
      "Generation 74 - Current best internal CV score: 0.7117907801418439\n",
      "Generation 75 - Current best internal CV score: 0.7117907801418439\n",
      "Generation 76 - Current best internal CV score: 0.7117907801418439\n",
      "Generation 77 - Current best internal CV score: 0.7117907801418439\n",
      "Generation 78 - Current best internal CV score: 0.7117907801418439\n",
      "Generation 79 - Current best internal CV score: 0.7117907801418439\n",
      "Generation 80 - Current best internal CV score: 0.7117907801418439\n",
      "Generation 81 - Current best internal CV score: 0.7117907801418439\n",
      "Generation 82 - Current best internal CV score: 0.7117907801418439\n",
      "Generation 83 - Current best internal CV score: 0.7117907801418439\n",
      "Generation 84 - Current best internal CV score: 0.7117907801418439\n",
      "Generation 85 - Current best internal CV score: 0.7117907801418439\n",
      "Generation 86 - Current best internal CV score: 0.7117907801418439\n",
      "Generation 87 - Current best internal CV score: 0.7117907801418439\n",
      "Generation 88 - Current best internal CV score: 0.7117907801418439\n",
      "Generation 89 - Current best internal CV score: 0.7117907801418439\n",
      "Generation 90 - Current best internal CV score: 0.7117907801418439\n",
      "Generation 91 - Current best internal CV score: 0.7160460992907801\n",
      "Generation 92 - Current best internal CV score: 0.7160460992907801\n",
      "Generation 93 - Current best internal CV score: 0.7160460992907801\n",
      "Generation 94 - Current best internal CV score: 0.7160460992907801\n",
      "Generation 95 - Current best internal CV score: 0.7160460992907801\n",
      "Generation 96 - Current best internal CV score: 0.7160460992907801\n",
      "Generation 97 - Current best internal CV score: 0.7160460992907801\n",
      "Generation 98 - Current best internal CV score: 0.7160460992907801\n",
      "Generation 99 - Current best internal CV score: 0.7160460992907801\n",
      "Generation 100 - Current best internal CV score: 0.7160460992907801\n",
      "\n",
      "Best pipeline: MultinomialNB(XGBClassifier(ExtraTreesClassifier(input_matrix, bootstrap=False, criterion=entropy, max_features=0.45, min_samples_leaf=3, min_samples_split=9, n_estimators=100), learning_rate=0.5, max_depth=7, min_child_weight=15, n_estimators=100, nthread=1, subsample=0.55), alpha=0.1, fit_prior=True)\n"
     ]
    },
    {
     "data": {
      "text/plain": [
       "TPOTClassifier(config_dict=None, crossover_rate=0.1, cv=5,\n",
       "               disable_update_check=False, early_stop=None, generations=100,\n",
       "               max_eval_time_mins=5, max_time_mins=None, memory=None,\n",
       "               mutation_rate=0.9, n_jobs=1, offspring_size=None,\n",
       "               periodic_checkpoint_folder=None, population_size=100,\n",
       "               random_state=7, scoring=None, subsample=1.0, template=None,\n",
       "               use_dask=False, verbosity=2, warm_start=False)"
      ]
     },
     "execution_count": 15,
     "metadata": {},
     "output_type": "execute_result"
    }
   ],
   "source": [
    "pipeline_optimizer.fit(X_train, y_train)"
   ]
  },
  {
   "cell_type": "code",
   "execution_count": 16,
   "metadata": {},
   "outputs": [
    {
     "name": "stdout",
     "output_type": "stream",
     "text": [
      "0.7166666666666667\n"
     ]
    }
   ],
   "source": [
    "print(pipeline_optimizer.score(X_test, y_test))"
   ]
  },
  {
   "cell_type": "code",
   "execution_count": 17,
   "metadata": {},
   "outputs": [],
   "source": [
    "pipeline_optimizer.export('tpot_exported_pipeline.py')"
   ]
  },
  {
   "cell_type": "code",
   "execution_count": 33,
   "metadata": {},
   "outputs": [
    {
     "name": "stdout",
     "output_type": "stream",
     "text": [
      "DEBUG:root:Namespace(cr=0.1, f=0.9, max_gen=100, np=100, verbose=True)\n",
      "DEBUG:root:Start of evolution\n",
      "DEBUG:root:  Evaluated 100 individuals\n",
      "DEBUG:root:-- Generation 1 --\n",
      "^C\n",
      "Traceback (most recent call last):\n",
      "  File \"ed_rand_1_bin.py\", line 116, in <module>\n",
      "    \n",
      "  File \"ed_rand_1_bin.py\", line 89, in main\n",
      "    \n",
      "  File \"ed_rand_1_bin.py\", line 77, in ed_rand_1_bin\n",
      "    order = numpy.argsort(fitness)[::-1]\n",
      "  File \"<__array_function__ internals>\", line 6, in apply_along_axis\n",
      "  File \"/usr/local/lib/python3.7/site-packages/numpy/lib/shape_base.py\", line 402, in apply_along_axis\n",
      "    buff[ind] = asanyarray(func1d(inarr_view[ind], *args, **kwargs))\n",
      "  File \"ed_rand_1_bin.py\", line 25, in fitness_func\n",
      "    acc = cross_val_score(classifier, X_train, y_train, cv=5)\n",
      "  File \"/usr/local/lib/python3.7/site-packages/sklearn/model_selection/_validation.py\", line 390, in cross_val_score\n",
      "    error_score=error_score)\n",
      "  File \"/usr/local/lib/python3.7/site-packages/sklearn/model_selection/_validation.py\", line 236, in cross_validate\n",
      "    for train, test in cv.split(X, y, groups))\n",
      "  File \"/usr/local/lib/python3.7/site-packages/joblib/parallel.py\", line 1004, in __call__\n",
      "    if self.dispatch_one_batch(iterator):\n",
      "  File \"/usr/local/lib/python3.7/site-packages/joblib/parallel.py\", line 835, in dispatch_one_batch\n",
      "    self._dispatch(tasks)\n",
      "  File \"/usr/local/lib/python3.7/site-packages/joblib/parallel.py\", line 754, in _dispatch\n",
      "    job = self._backend.apply_async(batch, callback=cb)\n",
      "  File \"/usr/local/lib/python3.7/site-packages/joblib/_parallel_backends.py\", line 209, in apply_async\n",
      "    result = ImmediateResult(func)\n",
      "  File \"/usr/local/lib/python3.7/site-packages/joblib/_parallel_backends.py\", line 590, in __init__\n",
      "    self.results = batch()\n",
      "  File \"/usr/local/lib/python3.7/site-packages/joblib/parallel.py\", line 256, in __call__\n",
      "    for func, args, kwargs in self.items]\n",
      "  File \"/usr/local/lib/python3.7/site-packages/joblib/parallel.py\", line 256, in <listcomp>\n",
      "    for func, args, kwargs in self.items]\n",
      "  File \"/usr/local/lib/python3.7/site-packages/sklearn/model_selection/_validation.py\", line 544, in _fit_and_score\n",
      "    test_scores = _score(estimator, X_test, y_test, scorer)\n",
      "  File \"/usr/local/lib/python3.7/site-packages/sklearn/model_selection/_validation.py\", line 591, in _score\n",
      "    scores = scorer(estimator, X_test, y_test)\n",
      "  File \"/usr/local/lib/python3.7/site-packages/sklearn/metrics/_scorer.py\", line 89, in __call__\n",
      "    score = scorer(estimator, *args, **kwargs)\n",
      "  File \"/usr/local/lib/python3.7/site-packages/sklearn/metrics/_scorer.py\", line 371, in _passthrough_scorer\n",
      "    return estimator.score(*args, **kwargs)\n",
      "  File \"/usr/local/lib/python3.7/site-packages/sklearn/base.py\", line 369, in score\n",
      "    return accuracy_score(y, self.predict(X), sample_weight=sample_weight)\n",
      "  File \"/usr/local/lib/python3.7/site-packages/sklearn/metrics/_classification.py\", line 193, in accuracy_score\n",
      "    return _weighted_sum(score, sample_weight, normalize)\n",
      "  File \"/usr/local/lib/python3.7/site-packages/sklearn/metrics/_classification.py\", line 117, in _weighted_sum\n",
      "    return np.average(sample_score, weights=sample_weight)\n",
      "  File \"<__array_function__ internals>\", line 6, in average\n",
      "  File \"/usr/local/lib/python3.7/site-packages/numpy/lib/function_base.py\", line 393, in average\n",
      "    avg = a.mean(axis)\n",
      "  File \"/usr/local/lib/python3.7/site-packages/numpy/core/_methods.py\", line 157, in _mean\n",
      "    elif hasattr(ret, 'dtype'):\n",
      "KeyboardInterrupt\n"
     ]
    }
   ],
   "source": [
    "!python ed_rand_1_bin.py --np 100 --max_gen 100 --cr 0.1 --f 0.9 -v"
   ]
  },
  {
   "cell_type": "code",
   "execution_count": null,
   "metadata": {},
   "outputs": [],
   "source": []
  }
 ],
 "metadata": {
  "kernelspec": {
   "display_name": "Python 3",
   "language": "python",
   "name": "python3"
  },
  "language_info": {
   "codemirror_mode": {
    "name": "ipython",
    "version": 3
   },
   "file_extension": ".py",
   "mimetype": "text/x-python",
   "name": "python",
   "nbconvert_exporter": "python",
   "pygments_lexer": "ipython3",
   "version": "3.7.6"
  }
 },
 "nbformat": 4,
 "nbformat_minor": 4
}
